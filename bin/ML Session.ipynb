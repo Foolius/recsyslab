{
 "metadata": {
  "name": "ML Session"
 },
 "nbformat": 3,
 "nbformat_minor": 0,
 "worksheets": [
  {
   "cells": [
    {
     "cell_type": "code",
     "collapsed": true,
     "input": [
      "import util.reader\n",
      "r = util.reader.stringSepReader(\"u.data\", \"\\t\")"
     ],
     "language": "python",
     "metadata": {},
     "outputs": []
    },
    {
     "cell_type": "code",
     "collapsed": false,
     "input": [
      "internalID = r.getInternalUid(\"196\")\n",
      "print(r.getR()[internalID])"
     ],
     "language": "python",
     "metadata": {},
     "outputs": []
    },
    {
     "cell_type": "code",
     "collapsed": false,
     "input": [
      "import util.split\n",
      "trainingDict, evaluationDict = util.split.split(r.getR(), 1234567890)"
     ],
     "language": "python",
     "metadata": {},
     "outputs": []
    },
    {
     "cell_type": "code",
     "collapsed": false,
     "input": [
      "import recommender.nonpersonalized\n",
      "constant = recommender.nonpersonalized.constant(trainingDict)\n",
      "print(constant.getRec(0, 10))"
     ],
     "language": "python",
     "metadata": {},
     "outputs": []
    },
    {
     "cell_type": "code",
     "collapsed": false,
     "input": [
      "import util.helper\n",
      "externalConstantgetRec = util.helper.getExternalRec(constant.getRec, r)\n",
      "print(externalConstantgetRec(\"196\", 10))"
     ],
     "language": "python",
     "metadata": {},
     "outputs": []
    },
    {
     "cell_type": "code",
     "collapsed": false,
     "input": [
      "import util.test\n",
      "util.test.hitrate(evaluationDict, constant.getRec, 10)"
     ],
     "language": "python",
     "metadata": {},
     "outputs": []
    },
    {
     "cell_type": "code",
     "collapsed": false,
     "input": [
      "randomRec = recommender.nonpersonalized.randomRec(trainingDict, 12367890)\n",
      "print(randomRec.getRec(0, 10))"
     ],
     "language": "python",
     "metadata": {},
     "outputs": []
    },
    {
     "cell_type": "code",
     "collapsed": false,
     "input": [
      "util.test.hitrate(evaluationDict, randomRec.getRec, 10)"
     ],
     "language": "python",
     "metadata": {},
     "outputs": []
    },
    {
     "cell_type": "code",
     "collapsed": false,
     "input": [
      "trainingMatrix, matrixEvaluationDict = (\n",
      "    util.split.splitMatrix(r.getMatrix(), 123456789))"
     ],
     "language": "python",
     "metadata": {},
     "outputs": []
    },
    {
     "cell_type": "code",
     "collapsed": false,
     "input": [
      "import recommender.knn\n",
      "userKnn = recommender.knn.userKnn(trainingMatrix, 10)"
     ],
     "language": "python",
     "metadata": {},
     "outputs": []
    },
    {
     "cell_type": "code",
     "collapsed": false,
     "input": [
      "util.test.hitrate(matrixEvaluationDict, userKnn.getRec, 10)"
     ],
     "language": "python",
     "metadata": {},
     "outputs": []
    },
    {
     "cell_type": "code",
     "collapsed": false,
     "input": [
      "import recommender.svd\n",
      "W, H = recommender.svd.learnModel(r.getMaxUid(), r.getMaxIid(),\n",
      "                                  0.0002,         # learning rate\n",
      "                                  trainingDict,   # training dict\n",
      "                                  770,            # number of features\n",
      "                                  4,              # number of epochs\n",
      "                                  1000)           # number of iterations"
     ],
     "language": "python",
     "metadata": {},
     "outputs": []
    },
    {
     "cell_type": "code",
     "collapsed": false,
     "input": [
      "import recommender.mf\n",
      "svd = recommender.mf.MFrec(W, H, trainingDict)\n",
      "util.test.hitrate(evaluationDict, svd.getRec, 10)"
     ],
     "language": "python",
     "metadata": {},
     "outputs": []
    },
    {
     "cell_type": "code",
     "collapsed": false,
     "input": [],
     "language": "python",
     "metadata": {},
     "outputs": []
    }
   ],
   "metadata": {}
  }
 ]
}